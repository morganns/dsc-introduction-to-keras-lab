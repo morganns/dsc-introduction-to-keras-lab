{
 "cells": [
  {
   "cell_type": "markdown",
   "metadata": {},
   "source": [
    "# Keras - Lab\n",
    "\n",
    "## Introduction\n",
    "\n",
    "In this lab you'll once again build a neural network, but this time you will be using Keras to do a lot of the heavy lifting.\n",
    "\n",
    "\n",
    "## Objectives\n",
    "\n",
    "You will be able to:\n",
    "\n",
    "- Build a neural network using Keras \n",
    "- Evaluate performance of a neural network using Keras "
   ]
  },
  {
   "cell_type": "markdown",
   "metadata": {},
   "source": [
    "## Required Packages\n",
    "\n",
    "We'll start by importing all of the required packages and classes."
   ]
  },
  {
   "cell_type": "code",
   "execution_count": 1,
   "metadata": {},
   "outputs": [],
   "source": [
    "import matplotlib.pyplot as plt\n",
    "import pandas as pd\n",
    "import numpy as np\n",
    "import random\n",
    "from sklearn.model_selection import train_test_split\n",
    "from keras.utils.np_utils import to_categorical\n",
    "from sklearn import preprocessing\n",
    "from keras.preprocessing.text import Tokenizer\n",
    "from keras import models\n",
    "from keras import layers\n",
    "from keras import optimizers"
   ]
  },
  {
   "cell_type": "markdown",
   "metadata": {},
   "source": [
    "## Load the data\n",
    "\n",
    "In this lab you will be classifying bank complaints available in the `'Bank_complaints.csv'` file. "
   ]
  },
  {
   "cell_type": "code",
   "execution_count": 2,
   "metadata": {},
   "outputs": [
    {
     "name": "stdout",
     "output_type": "stream",
     "text": [
      "<class 'pandas.core.frame.DataFrame'>\n",
      "RangeIndex: 60000 entries, 0 to 59999\n",
      "Data columns (total 2 columns):\n",
      " #   Column                        Non-Null Count  Dtype \n",
      "---  ------                        --------------  ----- \n",
      " 0   Product                       60000 non-null  object\n",
      " 1   Consumer complaint narrative  60000 non-null  object\n",
      "dtypes: object(2)\n",
      "memory usage: 937.6+ KB\n",
      "None\n"
     ]
    },
    {
     "data": {
      "text/html": [
       "<div>\n",
       "<style scoped>\n",
       "    .dataframe tbody tr th:only-of-type {\n",
       "        vertical-align: middle;\n",
       "    }\n",
       "\n",
       "    .dataframe tbody tr th {\n",
       "        vertical-align: top;\n",
       "    }\n",
       "\n",
       "    .dataframe thead th {\n",
       "        text-align: right;\n",
       "    }\n",
       "</style>\n",
       "<table border=\"1\" class=\"dataframe\">\n",
       "  <thead>\n",
       "    <tr style=\"text-align: right;\">\n",
       "      <th></th>\n",
       "      <th>Product</th>\n",
       "      <th>Consumer complaint narrative</th>\n",
       "    </tr>\n",
       "  </thead>\n",
       "  <tbody>\n",
       "    <tr>\n",
       "      <th>0</th>\n",
       "      <td>Student loan</td>\n",
       "      <td>In XX/XX/XXXX I filled out the Fedlaon applica...</td>\n",
       "    </tr>\n",
       "    <tr>\n",
       "      <th>1</th>\n",
       "      <td>Student loan</td>\n",
       "      <td>I am being contacted by a debt collector for p...</td>\n",
       "    </tr>\n",
       "    <tr>\n",
       "      <th>2</th>\n",
       "      <td>Student loan</td>\n",
       "      <td>I cosigned XXXX student loans at SallieMae for...</td>\n",
       "    </tr>\n",
       "    <tr>\n",
       "      <th>3</th>\n",
       "      <td>Student loan</td>\n",
       "      <td>Navient has sytematically and illegally failed...</td>\n",
       "    </tr>\n",
       "    <tr>\n",
       "      <th>4</th>\n",
       "      <td>Student loan</td>\n",
       "      <td>My wife became eligible for XXXX Loan Forgiven...</td>\n",
       "    </tr>\n",
       "  </tbody>\n",
       "</table>\n",
       "</div>"
      ],
      "text/plain": [
       "        Product                       Consumer complaint narrative\n",
       "0  Student loan  In XX/XX/XXXX I filled out the Fedlaon applica...\n",
       "1  Student loan  I am being contacted by a debt collector for p...\n",
       "2  Student loan  I cosigned XXXX student loans at SallieMae for...\n",
       "3  Student loan  Navient has sytematically and illegally failed...\n",
       "4  Student loan  My wife became eligible for XXXX Loan Forgiven..."
      ]
     },
     "execution_count": 2,
     "metadata": {},
     "output_type": "execute_result"
    }
   ],
   "source": [
    "# Import data\n",
    "df = pd.read_csv('Bank_complaints.csv') \n",
    "\n",
    "# Inspect data\n",
    "print(df.info())\n",
    "df.head()"
   ]
  },
  {
   "cell_type": "markdown",
   "metadata": {},
   "source": [
    "As mentioned earlier, your task is to categorize banking complaints into various predefined categories. Preview what these categories are and what percent of the complaints each accounts for. "
   ]
  },
  {
   "cell_type": "code",
   "execution_count": 3,
   "metadata": {},
   "outputs": [
    {
     "data": {
      "text/plain": [
       "Product\n",
       "Student loan                   0.190067\n",
       "Credit card                    0.159000\n",
       "Consumer Loan                  0.157900\n",
       "Mortgage                       0.138867\n",
       "Bank account or service        0.138483\n",
       "Credit reporting               0.114400\n",
       "Checking or savings account    0.101283\n",
       "Name: proportion, dtype: float64"
      ]
     },
     "execution_count": 3,
     "metadata": {},
     "output_type": "execute_result"
    }
   ],
   "source": [
    "# Your code here\n",
    "df['Product'].value_counts(normalize=True)"
   ]
  },
  {
   "cell_type": "markdown",
   "metadata": {},
   "source": [
    "## Preprocessing\n",
    "\n",
    "Before we build our neural network, we need to do several preprocessing steps. First, we will create word vector counts (a bag of words type representation) of our complaints text. Next, we will change the category labels to integers. Finally, we will perform our usual train-test split before building and training our neural network using Keras. With that, let's start munging our data! \n",
    "\n",
    "## One-hot encoding of the complaints\n",
    "\n",
    "Our first step again is to transform our textual data into a numerical representation. As we saw in some of our previous lessons on NLP, there are many ways to do this. Here, we'll use the `Tokenizer()` class from the `preprocessing.text` sub-module of the Keras package.   \n",
    "\n",
    "As with our previous work using NLTK, this will transform our text complaints into word vectors. (Note that the method of creating a vector is different from our previous work with NLTK; as you'll see, word order will be preserved as opposed to a bag of words representation). In the below code, we'll only keep the 2,000 most common words and use one-hot encoding. \n",
    "\n"
   ]
  },
  {
   "cell_type": "code",
   "execution_count": 4,
   "metadata": {},
   "outputs": [],
   "source": [
    "# As a quick preliminary, briefly review the docstring for keras.preprocessing.text.Tokenizer\n",
    "# Tokenizer?"
   ]
  },
  {
   "cell_type": "code",
   "execution_count": 5,
   "metadata": {},
   "outputs": [
    {
     "name": "stdout",
     "output_type": "stream",
     "text": [
      "sequences type: <class 'list'>\n",
      "one_hot_results type: <class 'numpy.ndarray'>\n",
      "Found 50110 unique tokens.\n",
      "Dimensions of our coded results: (60000, 2000)\n"
     ]
    }
   ],
   "source": [
    "# ⏰ This cell may take about thirty seconds to run\n",
    "\n",
    "# Raw text complaints\n",
    "complaints = df['Consumer complaint narrative'] \n",
    "\n",
    "# Initialize a tokenizer \n",
    "tokenizer = Tokenizer(num_words=2000) \n",
    "\n",
    "# Fit it to the complaints\n",
    "tokenizer.fit_on_texts(complaints) \n",
    "\n",
    "# Generate sequences\n",
    "sequences = tokenizer.texts_to_sequences(complaints) \n",
    "print('sequences type:', type(sequences))\n",
    "\n",
    "# Similar to sequences, but returns a numpy array\n",
    "one_hot_results= tokenizer.texts_to_matrix(complaints, mode='binary') \n",
    "print('one_hot_results type:', type(one_hot_results))\n",
    "\n",
    "# Useful if we wish to decode (more explanation below)\n",
    "word_index = tokenizer.word_index \n",
    "\n",
    "# Tokens are the number of unique words across the corpus\n",
    "print('Found %s unique tokens.' % len(word_index)) \n",
    "\n",
    "# Our coded data\n",
    "print('Dimensions of our coded results:', np.shape(one_hot_results)) "
   ]
  },
  {
   "cell_type": "markdown",
   "metadata": {},
   "source": [
    "## Decoding Word Vectors \n",
    "\n",
    "As a note, you can also decode these vectorized representations of the reviews. The `word_index` variable, defined above, stores the mapping from the label number to the actual word. Somewhat tediously, we can turn this dictionary inside out and map it back to our word vectors, giving us roughly the original complaint back. (As you'll see, the text won't be identical as we limited ourselves to top 2000 words.)\n",
    "\n",
    "## Python Review / Mini Challenge\n",
    "\n",
    "While a bit tangential to our main topic of interest, we need to reverse our current dictionary `word_index` which maps words from our corpus to integers. In decoding our `one_hot_results`, we will need to create a dictionary of these integers to the original words. Below, take the `word_index` dictionary object and change the orientation so that the values are keys and the keys values. In other words, you are transforming something of the form {A:1, B:2, C:3} to {1:A, 2:B, 3:C}. "
   ]
  },
  {
   "cell_type": "code",
   "execution_count": 6,
   "metadata": {},
   "outputs": [],
   "source": [
    "# Your code here\n",
    "reverse_index = {idx: word for word, idx in word_index.items()}\n"
   ]
  },
  {
   "cell_type": "markdown",
   "metadata": {},
   "source": [
    "## Back to Decoding Our Word Vectors..."
   ]
  },
  {
   "cell_type": "code",
   "execution_count": 7,
   "metadata": {},
   "outputs": [
    {
     "name": "stdout",
     "output_type": "stream",
     "text": [
      "Original complaint text:\n",
      "I have already filed several complaints about AES/PHEAA. I was notified by a XXXX XXXX let @ XXXX, who pretended to be from your office, he said he was from CFPB. I found out this morning he is n't from your office, but is actually works at XXXX. \n",
      "\n",
      "This has wasted weeks of my time. They AES/PHEAA confirmed and admitted ( see attached transcript of XXXX, conversation at XXXX ( XXXX ) with XXXX that proves they verified the loans are not mine ) the student loans they had XXXX, and collected on, and reported negate credit reporting in my name are in fact, not mine. \n",
      "They conclued their investigation on XXXX admitting they made a mistake and have my name on soneone elses loans. I these XXXX loans total {$10000.00}, original amount. My XXXX loans I got was total {$3500.00}. We proved by providing AES/PHEAA, this with my original promissary notes I located recently, the XXXX of my college provided AES/PHEAA with their original shoeinf amounts of my XXXX loans which show different dates and amounts, the dates and amounts are not even close to matching these loans they have in my name, The original lender, XXXX XXXX Bank notifying AES/PHEAA, they never issued me a student loan, and original Loan Guarantor, XXXX, notifying AES/PHEAA, they never were guarantor of my loans. \n",
      "\n",
      "XXXX straight forward. But today, this person, XXXX XXXX, told me they know these loans are not mine, and they refuse to remove my name off these XXXX loan 's and correct their mistake, essentially forcing me to pay these loans off, bucause in XXXX they sold the loans to XXXX loans. \n",
      "\n",
      "This is absurd, first protruding to be this office, and then refusing to correct their mistake. \n",
      "\n",
      "Please for the love of XXXX will soneone from your office call me at XXXX, today. I am a XXXX vet and they are knowingly discriminating against me. \n",
      "Pretending to be you.\n",
      "\n",
      "\n",
      "\n",
      "Decoded review from Tokenizer:\n",
      "i have already filed several complaints about aes i was notified by a xxxx xxxx let xxxx who to be from your office he said he was from cfpb i found out this morning he is n't from your office but is actually works at xxxx this has weeks of my time they aes confirmed and admitted see attached of xxxx conversation at xxxx xxxx with xxxx that they verified the loans are not mine the student loans they had xxxx and on and reported credit reporting in my name are in fact not mine they their investigation on xxxx they made a mistake and have my name on loans i these xxxx loans total 10000 00 original amount my xxxx loans i got was total 00 we by providing aes this with my original notes i located recently the xxxx of my college provided aes with their original amounts of my xxxx loans which show different dates and amounts the dates and amounts are not even close to these loans they have in my name the original lender xxxx xxxx bank notifying aes they never issued me a student loan and original loan xxxx notifying aes they never were of my loans xxxx forward but today this person xxxx xxxx told me they know these loans are not mine and they refuse to remove my name off these xxxx loan 's and correct their mistake essentially me to pay these loans off in xxxx they sold the loans to xxxx loans this is first to be this office and then refusing to correct their mistake please for the of xxxx will from your office call me at xxxx today i am a xxxx and they are against me to be you\n"
     ]
    }
   ],
   "source": [
    "comment_idx_to_preview = 19\n",
    "print('Original complaint text:')\n",
    "print(complaints[comment_idx_to_preview])\n",
    "print('\\n\\n')\n",
    "\n",
    "# The reverse_index cell block above must be complete in order for this cell block to successively execute \n",
    "decoded_review = ' '.join([reverse_index.get(i) for i in sequences[comment_idx_to_preview]])\n",
    "print('Decoded review from Tokenizer:')\n",
    "print(decoded_review)"
   ]
  },
  {
   "cell_type": "markdown",
   "metadata": {},
   "source": [
    "## Convert the Products to Numerical Categories\n",
    "\n",
    "On to step two of our preprocessing: converting our descriptive categories into integers."
   ]
  },
  {
   "cell_type": "code",
   "execution_count": 8,
   "metadata": {},
   "outputs": [
    {
     "name": "stdout",
     "output_type": "stream",
     "text": [
      "Original class labels:\n",
      "['Bank account or service', 'Checking or savings account', 'Consumer Loan', 'Credit card', 'Credit reporting', 'Mortgage', 'Student loan']\n",
      "\n",
      "\n",
      "New product labels:\n",
      "[6 6 6 ... 4 4 4]\n",
      "\n",
      "\n",
      "One hot labels; 7 binary columns, one for each of the categories.\n",
      "[[0. 0. 0. ... 0. 0. 1.]\n",
      " [0. 0. 0. ... 0. 0. 1.]\n",
      " [0. 0. 0. ... 0. 0. 1.]\n",
      " ...\n",
      " [0. 0. 0. ... 1. 0. 0.]\n",
      " [0. 0. 0. ... 1. 0. 0.]\n",
      " [0. 0. 0. ... 1. 0. 0.]]\n",
      "\n",
      "\n",
      "One hot labels shape:\n",
      "(60000, 7)\n"
     ]
    }
   ],
   "source": [
    "product = df['Product']\n",
    "\n",
    "# Initialize\n",
    "le = preprocessing.LabelEncoder() \n",
    "le.fit(product)\n",
    "print('Original class labels:')\n",
    "print(list(le.classes_))\n",
    "print('\\n')\n",
    "product_cat = le.transform(product)  \n",
    "\n",
    "# If you wish to retrieve the original descriptive labels post production\n",
    "# list(le.inverse_transform([0, 1, 3, 3, 0, 6, 4])) \n",
    "\n",
    "print('New product labels:')\n",
    "print(product_cat)\n",
    "print('\\n')\n",
    "\n",
    "# Each row will be all zeros except for the category for that observation \n",
    "print('One hot labels; 7 binary columns, one for each of the categories.') \n",
    "product_onehot = to_categorical(product_cat)\n",
    "print(product_onehot)\n",
    "print('\\n')\n",
    "\n",
    "print('One hot labels shape:')\n",
    "print(np.shape(product_onehot))"
   ]
  },
  {
   "cell_type": "markdown",
   "metadata": {},
   "source": [
    "## Train-test split\n",
    "\n",
    "Now for our final preprocessing step: the usual train-test split. "
   ]
  },
  {
   "cell_type": "code",
   "execution_count": 9,
   "metadata": {},
   "outputs": [
    {
     "name": "stdout",
     "output_type": "stream",
     "text": [
      "Test label shape: (1500, 7)\n",
      "Train label shape: (58500, 7)\n",
      "Test shape: (1500, 2000)\n",
      "Train shape: (58500, 2000)\n"
     ]
    }
   ],
   "source": [
    "random.seed(123)\n",
    "test_index = random.sample(range(1,10000), 1500)\n",
    "\n",
    "test = one_hot_results[test_index]\n",
    "train = np.delete(one_hot_results, test_index, 0)\n",
    "\n",
    "label_test = product_onehot[test_index]\n",
    "label_train = np.delete(product_onehot, test_index, 0)\n",
    "\n",
    "print('Test label shape:', np.shape(label_test))\n",
    "print('Train label shape:', np.shape(label_train))\n",
    "print('Test shape:', np.shape(test))\n",
    "print('Train shape:', np.shape(train))"
   ]
  },
  {
   "cell_type": "markdown",
   "metadata": {},
   "source": [
    "## Building the network\n",
    "\n",
    "Let's build a fully connected (Dense) layer network with relu activation in Keras. You can do this using: `Dense(16, activation='relu')`. \n",
    "\n",
    "In this example, use two hidden layers with 50 units in the first layer and 25 in the second, both with a `'relu'` activation function. Because we are dealing with a multiclass problem (classifying the complaints into 7 categories), we use a use a `'softmax'` classifier in order to output 7 class probabilities per case.  "
   ]
  },
  {
   "cell_type": "code",
   "execution_count": 10,
   "metadata": {},
   "outputs": [],
   "source": [
    "# Initialize a sequential model\n",
    "model = models.Sequential()\n",
    "\n",
    "# Two layers with relu activation\n",
    "\n",
    "model.add(layers.Dense(50, activation='relu', input_shape=(2000,)))\n",
    "\n",
    "# One layer with softmax activation \n",
    "model.add(layers.Dense(25, activation='relu'))\n",
    "\n",
    "# Output layer with 'softmax' activation for 7 classes\n",
    "model.add(layers.Dense(7, activation='softmax'))\n",
    "\n"
   ]
  },
  {
   "cell_type": "markdown",
   "metadata": {},
   "source": [
    "## Compiling the model\n",
    "\n",
    "Now, compile the model! This time, use `'categorical_crossentropy'` as the loss function and stochastic gradient descent, `'SGD'` as the optimizer. As in the previous lesson, include the accuracy as a metric."
   ]
  },
  {
   "cell_type": "code",
   "execution_count": 11,
   "metadata": {},
   "outputs": [],
   "source": [
    "# Compile the model\n",
    "model.compile(optimizer='SGD',\n",
    "              loss='categorical_crossentropy',\n",
    "              metrics=['accuracy'])\n"
   ]
  },
  {
   "cell_type": "markdown",
   "metadata": {},
   "source": [
    "## Training the model\n",
    "\n",
    "In the compiler, you'll be passing the optimizer (SGD = stochastic gradient descent), loss function, and metrics. Train the model for 120 epochs in mini-batches of 256 samples.\n",
    "\n",
    "_Note:_ ⏰ _Your code may take about one to two minutes to run._"
   ]
  },
  {
   "cell_type": "code",
   "execution_count": 12,
   "metadata": {},
   "outputs": [
    {
     "name": "stdout",
     "output_type": "stream",
     "text": [
      "Epoch 1/120\n",
      "183/183 [==============================] - 1s 7ms/step - loss: 1.7384 - accuracy: 0.3428 - val_loss: 3.0490 - val_accuracy: 0.0000e+00\n",
      "Epoch 2/120\n",
      "183/183 [==============================] - 1s 5ms/step - loss: 1.4174 - accuracy: 0.5183 - val_loss: 3.4266 - val_accuracy: 0.0042\n",
      "Epoch 3/120\n",
      "183/183 [==============================] - 1s 4ms/step - loss: 1.1359 - accuracy: 0.6018 - val_loss: 3.7914 - val_accuracy: 0.0598\n",
      "Epoch 4/120\n",
      "183/183 [==============================] - 1s 4ms/step - loss: 0.9404 - accuracy: 0.6575 - val_loss: 3.9870 - val_accuracy: 0.1601\n",
      "Epoch 5/120\n",
      "183/183 [==============================] - 1s 4ms/step - loss: 0.8208 - accuracy: 0.6919 - val_loss: 4.1940 - val_accuracy: 0.2156\n",
      "Epoch 6/120\n",
      "183/183 [==============================] - 1s 4ms/step - loss: 0.7449 - accuracy: 0.7143 - val_loss: 4.2908 - val_accuracy: 0.2603\n",
      "Epoch 7/120\n",
      "183/183 [==============================] - 1s 5ms/step - loss: 0.6930 - accuracy: 0.7316 - val_loss: 4.4302 - val_accuracy: 0.2848\n",
      "Epoch 8/120\n",
      "183/183 [==============================] - 1s 4ms/step - loss: 0.6551 - accuracy: 0.7437 - val_loss: 4.5240 - val_accuracy: 0.2983\n",
      "Epoch 9/120\n",
      "183/183 [==============================] - 1s 4ms/step - loss: 0.6265 - accuracy: 0.7541 - val_loss: 4.5707 - val_accuracy: 0.3198\n",
      "Epoch 10/120\n",
      "183/183 [==============================] - 1s 4ms/step - loss: 0.6044 - accuracy: 0.7620 - val_loss: 4.6515 - val_accuracy: 0.3202\n",
      "Epoch 11/120\n",
      "183/183 [==============================] - 1s 4ms/step - loss: 0.5861 - accuracy: 0.7691 - val_loss: 4.7163 - val_accuracy: 0.3295\n",
      "Epoch 12/120\n",
      "183/183 [==============================] - 1s 5ms/step - loss: 0.5711 - accuracy: 0.7738 - val_loss: 4.8174 - val_accuracy: 0.3268\n",
      "Epoch 13/120\n",
      "183/183 [==============================] - 1s 5ms/step - loss: 0.5584 - accuracy: 0.7807 - val_loss: 4.7720 - val_accuracy: 0.3444\n",
      "Epoch 14/120\n",
      "183/183 [==============================] - 1s 4ms/step - loss: 0.5473 - accuracy: 0.7854 - val_loss: 4.9471 - val_accuracy: 0.3338\n",
      "Epoch 15/120\n",
      "183/183 [==============================] - 1s 4ms/step - loss: 0.5375 - accuracy: 0.7896 - val_loss: 4.9393 - val_accuracy: 0.3411\n",
      "Epoch 16/120\n",
      "183/183 [==============================] - 1s 4ms/step - loss: 0.5289 - accuracy: 0.7935 - val_loss: 4.9832 - val_accuracy: 0.3415\n",
      "Epoch 17/120\n",
      "183/183 [==============================] - 1s 4ms/step - loss: 0.5210 - accuracy: 0.7978 - val_loss: 5.0345 - val_accuracy: 0.3377\n",
      "Epoch 18/120\n",
      "183/183 [==============================] - 1s 4ms/step - loss: 0.5137 - accuracy: 0.8003 - val_loss: 5.0259 - val_accuracy: 0.3493\n",
      "Epoch 19/120\n",
      "183/183 [==============================] - 1s 4ms/step - loss: 0.5071 - accuracy: 0.8030 - val_loss: 5.1175 - val_accuracy: 0.3479\n",
      "Epoch 20/120\n",
      "183/183 [==============================] - 1s 4ms/step - loss: 0.5009 - accuracy: 0.8060 - val_loss: 5.1687 - val_accuracy: 0.3484\n",
      "Epoch 21/120\n",
      "183/183 [==============================] - 1s 4ms/step - loss: 0.4952 - accuracy: 0.8090 - val_loss: 5.2047 - val_accuracy: 0.3449\n",
      "Epoch 22/120\n",
      "183/183 [==============================] - 1s 4ms/step - loss: 0.4897 - accuracy: 0.8119 - val_loss: 5.2276 - val_accuracy: 0.3453\n",
      "Epoch 23/120\n",
      "183/183 [==============================] - 1s 4ms/step - loss: 0.4846 - accuracy: 0.8130 - val_loss: 5.2761 - val_accuracy: 0.3469\n",
      "Epoch 24/120\n",
      "183/183 [==============================] - 1s 4ms/step - loss: 0.4798 - accuracy: 0.8158 - val_loss: 5.3096 - val_accuracy: 0.3460\n",
      "Epoch 25/120\n",
      "183/183 [==============================] - 1s 5ms/step - loss: 0.4753 - accuracy: 0.8172 - val_loss: 5.3690 - val_accuracy: 0.3467\n",
      "Epoch 26/120\n",
      "183/183 [==============================] - 1s 5ms/step - loss: 0.4711 - accuracy: 0.8193 - val_loss: 5.2777 - val_accuracy: 0.3562\n",
      "Epoch 27/120\n",
      "183/183 [==============================] - 1s 5ms/step - loss: 0.4670 - accuracy: 0.8211 - val_loss: 5.3298 - val_accuracy: 0.3567\n",
      "Epoch 28/120\n",
      "183/183 [==============================] - 1s 5ms/step - loss: 0.4629 - accuracy: 0.8231 - val_loss: 5.4396 - val_accuracy: 0.3474\n",
      "Epoch 29/120\n",
      "183/183 [==============================] - 1s 4ms/step - loss: 0.4591 - accuracy: 0.8248 - val_loss: 5.4327 - val_accuracy: 0.3488\n",
      "Epoch 30/120\n",
      "183/183 [==============================] - 1s 4ms/step - loss: 0.4551 - accuracy: 0.8262 - val_loss: 5.4813 - val_accuracy: 0.3474\n",
      "Epoch 31/120\n",
      "183/183 [==============================] - 1s 4ms/step - loss: 0.4519 - accuracy: 0.8273 - val_loss: 5.3995 - val_accuracy: 0.3545\n",
      "Epoch 32/120\n",
      "183/183 [==============================] - 1s 4ms/step - loss: 0.4486 - accuracy: 0.8294 - val_loss: 5.4378 - val_accuracy: 0.3531\n",
      "Epoch 33/120\n",
      "183/183 [==============================] - 1s 4ms/step - loss: 0.4453 - accuracy: 0.8306 - val_loss: 5.5236 - val_accuracy: 0.3540\n",
      "Epoch 34/120\n",
      "183/183 [==============================] - 1s 4ms/step - loss: 0.4423 - accuracy: 0.8323 - val_loss: 5.4995 - val_accuracy: 0.3552\n",
      "Epoch 35/120\n",
      "183/183 [==============================] - 1s 4ms/step - loss: 0.4392 - accuracy: 0.8325 - val_loss: 5.4879 - val_accuracy: 0.3567\n",
      "Epoch 36/120\n",
      "183/183 [==============================] - 1s 4ms/step - loss: 0.4367 - accuracy: 0.8344 - val_loss: 5.5381 - val_accuracy: 0.3548\n",
      "Epoch 37/120\n",
      "183/183 [==============================] - 1s 4ms/step - loss: 0.4337 - accuracy: 0.8354 - val_loss: 5.6164 - val_accuracy: 0.3515\n",
      "Epoch 38/120\n",
      "183/183 [==============================] - 1s 4ms/step - loss: 0.4308 - accuracy: 0.8357 - val_loss: 5.5823 - val_accuracy: 0.3502\n",
      "Epoch 39/120\n",
      "183/183 [==============================] - 1s 4ms/step - loss: 0.4284 - accuracy: 0.8369 - val_loss: 5.6043 - val_accuracy: 0.3502\n",
      "Epoch 40/120\n",
      "183/183 [==============================] - 1s 4ms/step - loss: 0.4260 - accuracy: 0.8381 - val_loss: 5.5651 - val_accuracy: 0.3551\n",
      "Epoch 41/120\n",
      "183/183 [==============================] - 1s 4ms/step - loss: 0.4232 - accuracy: 0.8389 - val_loss: 5.6022 - val_accuracy: 0.3556\n",
      "Epoch 42/120\n",
      "183/183 [==============================] - 1s 4ms/step - loss: 0.4207 - accuracy: 0.8400 - val_loss: 5.6273 - val_accuracy: 0.3536\n",
      "Epoch 43/120\n",
      "183/183 [==============================] - 1s 4ms/step - loss: 0.4185 - accuracy: 0.8412 - val_loss: 5.6285 - val_accuracy: 0.3554\n",
      "Epoch 44/120\n",
      "183/183 [==============================] - 1s 4ms/step - loss: 0.4163 - accuracy: 0.8423 - val_loss: 5.7383 - val_accuracy: 0.3485\n",
      "Epoch 45/120\n",
      "183/183 [==============================] - 1s 4ms/step - loss: 0.4138 - accuracy: 0.8437 - val_loss: 5.6439 - val_accuracy: 0.3539\n",
      "Epoch 46/120\n",
      "183/183 [==============================] - 1s 4ms/step - loss: 0.4117 - accuracy: 0.8446 - val_loss: 5.7122 - val_accuracy: 0.3478\n",
      "Epoch 47/120\n",
      "183/183 [==============================] - 1s 4ms/step - loss: 0.4096 - accuracy: 0.8454 - val_loss: 5.6913 - val_accuracy: 0.3534\n",
      "Epoch 48/120\n",
      "183/183 [==============================] - 1s 4ms/step - loss: 0.4076 - accuracy: 0.8467 - val_loss: 5.6896 - val_accuracy: 0.3509\n",
      "Epoch 49/120\n",
      "183/183 [==============================] - 1s 4ms/step - loss: 0.4056 - accuracy: 0.8472 - val_loss: 5.7060 - val_accuracy: 0.3579\n",
      "Epoch 50/120\n",
      "183/183 [==============================] - 1s 4ms/step - loss: 0.4034 - accuracy: 0.8478 - val_loss: 5.7053 - val_accuracy: 0.3547\n",
      "Epoch 51/120\n",
      "183/183 [==============================] - 1s 4ms/step - loss: 0.4019 - accuracy: 0.8490 - val_loss: 5.6682 - val_accuracy: 0.3604\n",
      "Epoch 52/120\n",
      "183/183 [==============================] - 1s 4ms/step - loss: 0.3998 - accuracy: 0.8492 - val_loss: 5.7609 - val_accuracy: 0.3529\n",
      "Epoch 53/120\n",
      "183/183 [==============================] - 1s 4ms/step - loss: 0.3981 - accuracy: 0.8503 - val_loss: 5.7409 - val_accuracy: 0.3558\n",
      "Epoch 54/120\n",
      "183/183 [==============================] - 1s 4ms/step - loss: 0.3959 - accuracy: 0.8520 - val_loss: 5.6855 - val_accuracy: 0.3556\n",
      "Epoch 55/120\n",
      "183/183 [==============================] - 1s 4ms/step - loss: 0.3945 - accuracy: 0.8523 - val_loss: 5.7505 - val_accuracy: 0.3532\n",
      "Epoch 56/120\n",
      "183/183 [==============================] - 1s 4ms/step - loss: 0.3929 - accuracy: 0.8527 - val_loss: 5.7395 - val_accuracy: 0.3571\n",
      "Epoch 57/120\n",
      "183/183 [==============================] - 1s 4ms/step - loss: 0.3909 - accuracy: 0.8537 - val_loss: 5.7574 - val_accuracy: 0.3562\n"
     ]
    },
    {
     "name": "stdout",
     "output_type": "stream",
     "text": [
      "Epoch 58/120\n",
      "183/183 [==============================] - 1s 4ms/step - loss: 0.3895 - accuracy: 0.8542 - val_loss: 5.7776 - val_accuracy: 0.3548\n",
      "Epoch 59/120\n",
      "183/183 [==============================] - 1s 4ms/step - loss: 0.3877 - accuracy: 0.8546 - val_loss: 5.8296 - val_accuracy: 0.3528\n",
      "Epoch 60/120\n",
      "183/183 [==============================] - 1s 4ms/step - loss: 0.3863 - accuracy: 0.8552 - val_loss: 5.8812 - val_accuracy: 0.3514\n",
      "Epoch 61/120\n",
      "183/183 [==============================] - 1s 4ms/step - loss: 0.3847 - accuracy: 0.8555 - val_loss: 5.8139 - val_accuracy: 0.3547\n",
      "Epoch 62/120\n",
      "183/183 [==============================] - 1s 4ms/step - loss: 0.3830 - accuracy: 0.8573 - val_loss: 5.8440 - val_accuracy: 0.3572\n",
      "Epoch 63/120\n",
      "183/183 [==============================] - 1s 4ms/step - loss: 0.3816 - accuracy: 0.8569 - val_loss: 5.7307 - val_accuracy: 0.3606\n",
      "Epoch 64/120\n",
      "183/183 [==============================] - 1s 4ms/step - loss: 0.3802 - accuracy: 0.8574 - val_loss: 5.8333 - val_accuracy: 0.3551\n",
      "Epoch 65/120\n",
      "183/183 [==============================] - 1s 4ms/step - loss: 0.3784 - accuracy: 0.8580 - val_loss: 5.8210 - val_accuracy: 0.3560\n",
      "Epoch 66/120\n",
      "183/183 [==============================] - 1s 4ms/step - loss: 0.3771 - accuracy: 0.8587 - val_loss: 5.8330 - val_accuracy: 0.3567\n",
      "Epoch 67/120\n",
      "183/183 [==============================] - 1s 4ms/step - loss: 0.3755 - accuracy: 0.8599 - val_loss: 5.8113 - val_accuracy: 0.3586\n",
      "Epoch 68/120\n",
      "183/183 [==============================] - 1s 4ms/step - loss: 0.3744 - accuracy: 0.8600 - val_loss: 5.8483 - val_accuracy: 0.3561\n",
      "Epoch 69/120\n",
      "183/183 [==============================] - 1s 4ms/step - loss: 0.3724 - accuracy: 0.8610 - val_loss: 5.9458 - val_accuracy: 0.3520\n",
      "Epoch 70/120\n",
      "183/183 [==============================] - 1s 4ms/step - loss: 0.3716 - accuracy: 0.8613 - val_loss: 5.8569 - val_accuracy: 0.3542\n",
      "Epoch 71/120\n",
      "183/183 [==============================] - 1s 4ms/step - loss: 0.3703 - accuracy: 0.8615 - val_loss: 5.9489 - val_accuracy: 0.3520\n",
      "Epoch 72/120\n",
      "183/183 [==============================] - 1s 4ms/step - loss: 0.3688 - accuracy: 0.8618 - val_loss: 5.9359 - val_accuracy: 0.3537\n",
      "Epoch 73/120\n",
      "183/183 [==============================] - 1s 4ms/step - loss: 0.3676 - accuracy: 0.8628 - val_loss: 5.8795 - val_accuracy: 0.3550\n",
      "Epoch 74/120\n",
      "183/183 [==============================] - 1s 4ms/step - loss: 0.3659 - accuracy: 0.8631 - val_loss: 5.8574 - val_accuracy: 0.3570\n",
      "Epoch 75/120\n",
      "183/183 [==============================] - 1s 4ms/step - loss: 0.3646 - accuracy: 0.8643 - val_loss: 5.8604 - val_accuracy: 0.3556\n",
      "Epoch 76/120\n",
      "183/183 [==============================] - 1s 4ms/step - loss: 0.3636 - accuracy: 0.8646 - val_loss: 5.8505 - val_accuracy: 0.3637\n",
      "Epoch 77/120\n",
      "183/183 [==============================] - 1s 4ms/step - loss: 0.3626 - accuracy: 0.8636 - val_loss: 5.9459 - val_accuracy: 0.3531\n",
      "Epoch 78/120\n",
      "183/183 [==============================] - 1s 4ms/step - loss: 0.3614 - accuracy: 0.8644 - val_loss: 5.8784 - val_accuracy: 0.3583\n",
      "Epoch 79/120\n",
      "183/183 [==============================] - 1s 4ms/step - loss: 0.3598 - accuracy: 0.8654 - val_loss: 6.0073 - val_accuracy: 0.3507\n",
      "Epoch 80/120\n",
      "183/183 [==============================] - 1s 4ms/step - loss: 0.3588 - accuracy: 0.8659 - val_loss: 5.9635 - val_accuracy: 0.3527\n",
      "Epoch 81/120\n",
      "183/183 [==============================] - 1s 4ms/step - loss: 0.3576 - accuracy: 0.8670 - val_loss: 5.9522 - val_accuracy: 0.3560\n",
      "Epoch 82/120\n",
      "183/183 [==============================] - 1s 4ms/step - loss: 0.3561 - accuracy: 0.8668 - val_loss: 5.9654 - val_accuracy: 0.3550\n",
      "Epoch 83/120\n",
      "183/183 [==============================] - 1s 4ms/step - loss: 0.3551 - accuracy: 0.8671 - val_loss: 5.9906 - val_accuracy: 0.3560\n",
      "Epoch 84/120\n",
      "183/183 [==============================] - 1s 4ms/step - loss: 0.3539 - accuracy: 0.8682 - val_loss: 6.0595 - val_accuracy: 0.3521\n",
      "Epoch 85/120\n",
      "183/183 [==============================] - 1s 4ms/step - loss: 0.3530 - accuracy: 0.8674 - val_loss: 6.0529 - val_accuracy: 0.3521\n",
      "Epoch 86/120\n",
      "183/183 [==============================] - 1s 4ms/step - loss: 0.3517 - accuracy: 0.8683 - val_loss: 5.9833 - val_accuracy: 0.3560\n",
      "Epoch 87/120\n",
      "183/183 [==============================] - 1s 4ms/step - loss: 0.3506 - accuracy: 0.8691 - val_loss: 6.0044 - val_accuracy: 0.3558\n",
      "Epoch 88/120\n",
      "183/183 [==============================] - 1s 4ms/step - loss: 0.3491 - accuracy: 0.8696 - val_loss: 5.9845 - val_accuracy: 0.3575\n",
      "Epoch 89/120\n",
      "183/183 [==============================] - 1s 4ms/step - loss: 0.3481 - accuracy: 0.8697 - val_loss: 6.0389 - val_accuracy: 0.3567\n",
      "Epoch 90/120\n",
      "183/183 [==============================] - 1s 4ms/step - loss: 0.3470 - accuracy: 0.8695 - val_loss: 5.9850 - val_accuracy: 0.3578\n",
      "Epoch 91/120\n",
      "183/183 [==============================] - 1s 5ms/step - loss: 0.3461 - accuracy: 0.8708 - val_loss: 6.0269 - val_accuracy: 0.3573\n",
      "Epoch 92/120\n",
      "183/183 [==============================] - 1s 4ms/step - loss: 0.3453 - accuracy: 0.8709 - val_loss: 6.0196 - val_accuracy: 0.3561\n",
      "Epoch 93/120\n",
      "183/183 [==============================] - 1s 4ms/step - loss: 0.3438 - accuracy: 0.8712 - val_loss: 6.0999 - val_accuracy: 0.3544\n",
      "Epoch 94/120\n",
      "183/183 [==============================] - 1s 4ms/step - loss: 0.3428 - accuracy: 0.8719 - val_loss: 6.0842 - val_accuracy: 0.3525\n",
      "Epoch 95/120\n",
      "183/183 [==============================] - 1s 4ms/step - loss: 0.3419 - accuracy: 0.8720 - val_loss: 6.0815 - val_accuracy: 0.3538\n",
      "Epoch 96/120\n",
      "183/183 [==============================] - 1s 4ms/step - loss: 0.3405 - accuracy: 0.8727 - val_loss: 6.0725 - val_accuracy: 0.3557\n",
      "Epoch 97/120\n",
      "183/183 [==============================] - 1s 4ms/step - loss: 0.3398 - accuracy: 0.8729 - val_loss: 6.1193 - val_accuracy: 0.3550\n",
      "Epoch 98/120\n",
      "183/183 [==============================] - 1s 4ms/step - loss: 0.3386 - accuracy: 0.8737 - val_loss: 6.0559 - val_accuracy: 0.3562\n",
      "Epoch 99/120\n",
      "183/183 [==============================] - 1s 4ms/step - loss: 0.3374 - accuracy: 0.8737 - val_loss: 6.0710 - val_accuracy: 0.3596\n",
      "Epoch 100/120\n",
      "183/183 [==============================] - 1s 4ms/step - loss: 0.3365 - accuracy: 0.8747 - val_loss: 6.1511 - val_accuracy: 0.3546\n",
      "Epoch 101/120\n",
      "183/183 [==============================] - 1s 4ms/step - loss: 0.3353 - accuracy: 0.8746 - val_loss: 6.1739 - val_accuracy: 0.3553\n",
      "Epoch 102/120\n",
      "183/183 [==============================] - 1s 4ms/step - loss: 0.3342 - accuracy: 0.8756 - val_loss: 6.1153 - val_accuracy: 0.3555\n",
      "Epoch 103/120\n",
      "183/183 [==============================] - 1s 4ms/step - loss: 0.3333 - accuracy: 0.8753 - val_loss: 6.1099 - val_accuracy: 0.3604\n",
      "Epoch 104/120\n",
      "183/183 [==============================] - 1s 4ms/step - loss: 0.3326 - accuracy: 0.8759 - val_loss: 6.2543 - val_accuracy: 0.3521\n",
      "Epoch 105/120\n",
      "183/183 [==============================] - 1s 5ms/step - loss: 0.3311 - accuracy: 0.8762 - val_loss: 6.2039 - val_accuracy: 0.3544\n",
      "Epoch 106/120\n",
      "183/183 [==============================] - 1s 5ms/step - loss: 0.3301 - accuracy: 0.8775 - val_loss: 6.1605 - val_accuracy: 0.3552\n",
      "Epoch 107/120\n",
      "183/183 [==============================] - 1s 5ms/step - loss: 0.3290 - accuracy: 0.8776 - val_loss: 6.2346 - val_accuracy: 0.3526\n",
      "Epoch 108/120\n",
      "183/183 [==============================] - 1s 5ms/step - loss: 0.3275 - accuracy: 0.8783 - val_loss: 6.2033 - val_accuracy: 0.3513\n",
      "Epoch 109/120\n",
      "183/183 [==============================] - 1s 4ms/step - loss: 0.3270 - accuracy: 0.8784 - val_loss: 6.1466 - val_accuracy: 0.3579\n",
      "Epoch 110/120\n",
      "183/183 [==============================] - 1s 4ms/step - loss: 0.3257 - accuracy: 0.8789 - val_loss: 6.1725 - val_accuracy: 0.3543\n",
      "Epoch 111/120\n",
      "183/183 [==============================] - 1s 4ms/step - loss: 0.3244 - accuracy: 0.8791 - val_loss: 6.2223 - val_accuracy: 0.3521\n",
      "Epoch 112/120\n",
      "183/183 [==============================] - 1s 5ms/step - loss: 0.3239 - accuracy: 0.8798 - val_loss: 6.2598 - val_accuracy: 0.3515\n",
      "Epoch 113/120\n",
      "183/183 [==============================] - 1s 4ms/step - loss: 0.3224 - accuracy: 0.8796 - val_loss: 6.2753 - val_accuracy: 0.3526\n",
      "Epoch 114/120\n",
      "183/183 [==============================] - 1s 4ms/step - loss: 0.3215 - accuracy: 0.8804 - val_loss: 6.2017 - val_accuracy: 0.3570\n"
     ]
    },
    {
     "name": "stdout",
     "output_type": "stream",
     "text": [
      "Epoch 115/120\n",
      "183/183 [==============================] - 1s 4ms/step - loss: 0.3203 - accuracy: 0.8811 - val_loss: 6.3554 - val_accuracy: 0.3522\n",
      "Epoch 116/120\n",
      "183/183 [==============================] - 1s 5ms/step - loss: 0.3193 - accuracy: 0.8814 - val_loss: 6.2469 - val_accuracy: 0.3553\n",
      "Epoch 117/120\n",
      "183/183 [==============================] - 1s 4ms/step - loss: 0.3185 - accuracy: 0.8812 - val_loss: 6.2592 - val_accuracy: 0.3549\n",
      "Epoch 118/120\n",
      "183/183 [==============================] - 1s 4ms/step - loss: 0.3170 - accuracy: 0.8826 - val_loss: 6.3136 - val_accuracy: 0.3527\n",
      "Epoch 119/120\n",
      "183/183 [==============================] - 1s 4ms/step - loss: 0.3160 - accuracy: 0.8828 - val_loss: 6.2833 - val_accuracy: 0.3543\n",
      "Epoch 120/120\n",
      "183/183 [==============================] - 1s 4ms/step - loss: 0.3149 - accuracy: 0.8826 - val_loss: 6.3111 - val_accuracy: 0.3532\n"
     ]
    },
    {
     "data": {
      "text/plain": [
       "dict_keys(['loss', 'accuracy', 'val_loss', 'val_accuracy'])"
      ]
     },
     "execution_count": 12,
     "metadata": {},
     "output_type": "execute_result"
    }
   ],
   "source": [
    "# Train the model \n",
    "history = model.fit(train,\n",
    "                    label_train,\n",
    "                    epochs=120,\n",
    "                    batch_size=256,\n",
    "                    validation_split=0.2)\n",
    "\n",
    "history_dict = history.history\n",
    "history_dict.keys()\n"
   ]
  },
  {
   "cell_type": "markdown",
   "metadata": {},
   "source": [
    "Recall that the dictionary `history` has two entries: the loss and the accuracy achieved using the training set."
   ]
  },
  {
   "cell_type": "code",
   "execution_count": 13,
   "metadata": {},
   "outputs": [
    {
     "data": {
      "text/plain": [
       "dict_keys(['loss', 'accuracy', 'val_loss', 'val_accuracy'])"
      ]
     },
     "execution_count": 13,
     "metadata": {},
     "output_type": "execute_result"
    }
   ],
   "source": [
    "history_dict = history.history\n",
    "history_dict.keys()"
   ]
  },
  {
   "cell_type": "markdown",
   "metadata": {},
   "source": [
    "## Plot the results\n",
    "\n",
    "As you might expect, we'll use our `matplotlib` for graphing. Use the data stored in the `history_dict` above to plot the loss vs epochs and the accuracy vs epochs. "
   ]
  },
  {
   "cell_type": "code",
   "execution_count": 14,
   "metadata": {},
   "outputs": [
    {
     "data": {
      "image/png": "[encoded data removed]",
      "text/plain": [
       "<Figure size 640x480 with 1 Axes>"
      ]
     },
     "metadata": {},
     "output_type": "display_data"
    }
   ],
   "source": [
    "# Plot the loss vs the number of epoch\n",
    "%matplotlib inline\n",
    "\n",
    "loss_values = history_dict['loss']\n",
    "val_loss_values = history_dict['val_loss']\n",
    "epochs = range(1, len(loss_values) + 1)\n",
    "\n",
    "plt.plot(epochs, loss_values, 'bo', label='Training loss')\n",
    "plt.plot(epochs, val_loss_values, 'b', label='Validation loss')\n",
    "plt.title('Training and Validation Loss')\n",
    "plt.xlabel('Epochs')\n",
    "plt.ylabel('Loss')\n",
    "plt.legend()\n",
    "plt.show()\n"
   ]
  },
  {
   "cell_type": "code",
   "execution_count": 15,
   "metadata": {},
   "outputs": [
    {
     "data": {
      "image/png": "[encoded data removed]",
      "text/plain": [
       "<Figure size 640x480 with 1 Axes>"
      ]
     },
     "metadata": {},
     "output_type": "display_data"
    }
   ],
   "source": [
    "# Plot the training accuracy vs the number of epochs\n",
    "acc_values = history_dict['accuracy']\n",
    "val_acc_values = history_dict['val_accuracy']\n",
    "\n",
    "plt.plot(epochs, acc_values, 'ro', label='Training accuracy')\n",
    "plt.plot(epochs, val_acc_values, 'r', label='Validation accuracy')\n",
    "plt.title('Training and Validation Accuracy')\n",
    "plt.xlabel('Epochs')\n",
    "plt.ylabel('Accuracy')\n",
    "plt.legend()\n",
    "plt.show()\n"
   ]
  },
  {
   "cell_type": "markdown",
   "metadata": {},
   "source": [
    "It seems like we could just keep on going and accuracy would go up!"
   ]
  },
  {
   "cell_type": "markdown",
   "metadata": {},
   "source": [
    "## Make predictions\n",
    "\n",
    "Finally, it's time to make predictions. Use the relevant method discussed in the previous lesson to output (probability) predictions for the test set."
   ]
  },
  {
   "cell_type": "code",
   "execution_count": 16,
   "metadata": {},
   "outputs": [
    {
     "data": {
      "text/plain": [
       "array([[6.4107176e-15, 3.8520985e-14, 8.3712178e-12, 1.2996984e-12,\n",
       "        3.8146324e-15, 5.7445822e-14, 1.0000000e+00],\n",
       "       [4.6416508e-12, 9.4394475e-12, 1.5068932e-10, 1.9851298e-11,\n",
       "        6.7943381e-12, 3.0315217e-10, 1.0000000e+00],\n",
       "       [4.0486142e-11, 2.5347183e-11, 7.1124856e-10, 2.1330884e-10,\n",
       "        3.0384147e-11, 2.4246427e-09, 1.0000000e+00],\n",
       "       [4.5518541e-07, 1.3383199e-06, 2.9704797e-05, 2.4826898e-06,\n",
       "        4.5300928e-07, 1.7559818e-06, 9.9996376e-01],\n",
       "       [1.7395175e-06, 1.2762388e-06, 8.8355064e-06, 9.0660724e-06,\n",
       "        1.1800138e-06, 1.0298553e-05, 9.9996758e-01]], dtype=float32)"
      ]
     },
     "execution_count": 16,
     "metadata": {},
     "output_type": "execute_result"
    }
   ],
   "source": [
    "# Output (probability) predictions for the test set \n",
    "y_hat_test = model.predict(test)\n",
    "y_hat_test[:5]\n"
   ]
  },
  {
   "cell_type": "markdown",
   "metadata": {},
   "source": [
    "## Evaluate Performance\n",
    "\n",
    "Finally, print the loss and accuracy for both the train and test sets of the final trained model."
   ]
  },
  {
   "cell_type": "code",
   "execution_count": 17,
   "metadata": {},
   "outputs": [
    {
     "name": "stdout",
     "output_type": "stream",
     "text": [
      "1829/1829 [==============================] - 2s 912us/step - loss: 1.5095 - accuracy: 0.7799\n"
     ]
    },
    {
     "data": {
      "text/plain": [
       "[1.5094661712646484, 0.7798803448677063]"
      ]
     },
     "execution_count": 17,
     "metadata": {},
     "output_type": "execute_result"
    }
   ],
   "source": [
    "# Print the loss and accuracy for the training set \n",
    "results_train = model.evaluate(train, label_train)\n",
    "results_train\n"
   ]
  },
  {
   "cell_type": "code",
   "execution_count": 18,
   "metadata": {},
   "outputs": [
    {
     "name": "stdout",
     "output_type": "stream",
     "text": [
      "47/47 [==============================] - 0s 903us/step - loss: 0.2096 - accuracy: 0.9387\n"
     ]
    },
    {
     "data": {
      "text/plain": [
       "[0.20962686836719513, 0.9386666417121887]"
      ]
     },
     "execution_count": 18,
     "metadata": {},
     "output_type": "execute_result"
    }
   ],
   "source": [
    "# Print the loss and accuracy for the test set \n",
    "results_test = model.evaluate(test, label_test)\n",
    "results_test\n"
   ]
  },
  {
   "cell_type": "markdown",
   "metadata": {},
   "source": [
    "We can see that the training set results are really good, and the test set results seem to be even better. In general, this type of result will be rare, as train set results are usually at least a bit better than test set results.\n",
    "\n",
    "## Summary \n",
    "\n",
    "Congratulations! In this lab, you built a neural network thanks to the tools provided by Keras! In upcoming lessons and labs we'll continue to investigate further ideas regarding how to tune and refine these models for increased accuracy and performance."
   ]
  }
 ],
 "metadata": {
  "kernelspec": {
   "display_name": "Python 3 (ipykernel)",
   "language": "python",
   "name": "python3"
  },
  "language_info": {
   "codemirror_mode": {
    "name": "ipython",
    "version": 3
   },
   "file_extension": ".py",
   "mimetype": "text/x-python",
   "name": "python",
   "nbconvert_exporter": "python",
   "pygments_lexer": "ipython3",
   "version": "3.8.5"
  },
  "toc": {
   "base_numbering": 1,
   "nav_menu": {},
   "number_sections": true,
   "sideBar": true,
   "skip_h1_title": false,
   "title_cell": "Table of Contents",
   "title_sidebar": "Contents",
   "toc_cell": false,
   "toc_position": {},
   "toc_section_display": true,
   "toc_window_display": false
  }
 },
 "nbformat": 4,
 "nbformat_minor": 2
}
